{
 "cells": [
  {
   "cell_type": "code",
   "execution_count": 205,
   "metadata": {},
   "outputs": [
    {
     "name": "stdout",
     "output_type": "stream",
     "text": [
      "'..' already existed in sys.path, skipping\n",
      "module reloaded: gym_extensions.policies\n",
      "module reloaded: gym_extensions.utils\n",
      "module reloaded: gym_extensions.value_functions.tabular\n",
      "success rate: 0.0415\n",
      "success rate: 0.042\n",
      "success rate: 0.1559\n",
      "success rate: 0.1831\n",
      "success rate: 0.18988\n",
      "success rate: 0.17258333333333334\n",
      "success rate: 0.18832857142857143\n",
      "success rate: 0.1755\n",
      "success rate: 0.16353333333333334\n",
      "success rate: 0.16849\n"
     ]
    },
    {
     "data": {
      "text/plain": [
       "[<matplotlib.lines.Line2D at 0x21b249aa828>]"
      ]
     },
     "execution_count": 205,
     "metadata": {},
     "output_type": "execute_result"
    },
    {
     "data": {
      "image/png": "[encoded data removed]",
      "text/plain": [
       "<Figure size 432x288 with 1 Axes>"
      ]
     },
     "metadata": {
      "needs_background": "light"
     },
     "output_type": "display_data"
    }
   ],
   "source": [
    "%addpath ..\n",
    "%reload gym_extensions.policies gym_extensions.utils gym_extensions.value_functions.tabular\n",
    "from gym_extensions.value_functions.tabular import TabularQ\n",
    "from gym_extensions.policies import PolicyQ\n",
    "from gym_extensions.algorithms.td0 import Sarsa \n",
    "\n",
    "\n",
    "env = gym.make('FrozenLake-v0')\n",
    "\n",
    "q = TabularQ(env, optimistic_initialization=1.0)\n",
    "pi = PolicyQ(q, epsilon=0.001)\n",
    "algo = Sarsa(q, alpha=0.8, gamma=0.999)\n",
    "\n",
    "t_max = 2500\n",
    "num_episodes = 100000\n",
    "\n",
    "k = 0.0\n",
    "n = 0.0\n",
    "success_rate = []\n",
    "\n",
    "for episode in range(1, num_episodes + 1):\n",
    "    s = env.reset()\n",
    "    a = env.action_space.sample()\n",
    "           \n",
    "    for t in range(1, 1 + t_max):\n",
    "        s_next, r, done, info = env.step(a)\n",
    "        a_next = pi.epsilon_greedy(s_next)\n",
    "        algo.update(s, a, r, s_next, a_next)\n",
    "\n",
    "        if done:\n",
    "            k += r\n",
    "            n += 1.0\n",
    "            break\n",
    "        \n",
    "        # prepare for next round\n",
    "        s, a = s_next, a_next\n",
    "        \n",
    "    success_rate.append(k/n)\n",
    "    if episode % (num_episodes // 10) == 0:\n",
    "        print(\"success rate:\", k / n)\n",
    "\n",
    "plt.plot(success_rate)"
   ]
  }
 ],
 "metadata": {
  "kernelspec": {
   "display_name": "Python 3",
   "language": "python",
   "name": "python3"
  },
  "language_info": {
   "codemirror_mode": {
    "name": "ipython",
    "version": 3
   },
   "file_extension": ".py",
   "mimetype": "text/x-python",
   "name": "python",
   "nbconvert_exporter": "python",
   "pygments_lexer": "ipython3",
   "version": "3.6.6"
  }
 },
 "nbformat": 4,
 "nbformat_minor": 2
}
